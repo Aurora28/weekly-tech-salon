{
 "cells": [
  {
   "cell_type": "markdown",
   "metadata": {},
   "source": [
    "# Python Tips Cprofile\n",
    "\n",
    "*Author 杜远超*"
   ]
  },
  {
   "cell_type": "code",
   "execution_count": 7,
   "metadata": {
    "scrolled": true
   },
   "outputs": [
    {
     "name": "stdout",
     "output_type": "stream",
     "text": [
      "         4 function calls in 4.403 seconds\n",
      "\n",
      "   Ordered by: standard name\n",
      "\n",
      "   ncalls  tottime  percall  cumtime  percall filename:lineno(function)\n",
      "        1    4.403    4.403    4.403    4.403 <ipython-input-7-340cc7bfd8ec>:1(foo)\n",
      "        1    0.000    0.000    4.403    4.403 <string>:1(<module>)\n",
      "        1    0.000    0.000    4.403    4.403 {built-in method builtins.exec}\n",
      "        1    0.000    0.000    0.000    0.000 {method 'disable' of '_lsprof.Profiler' objects}\n",
      "\n",
      "\n"
     ]
    }
   ],
   "source": [
    "def foo():\n",
    "    sum = 0\n",
    "    for i in range(9999999):\n",
    "        i = str(i)\n",
    "        i = int(i)\n",
    "        sum += i\n",
    "    return sum\n",
    "\n",
    "if __name__ == \"__main__\":\n",
    "    import cProfile\n",
    "    cProfile.run(\"foo()\")\n",
    "    "
   ]
  },
  {
   "cell_type": "markdown",
   "metadata": {},
   "source": [
    "以上为输出结果\n",
    "\n",
    "当程序更为复杂时，可以进一步使用文档存储，并按照顺序排列"
   ]
  },
  {
   "cell_type": "code",
   "execution_count": 9,
   "metadata": {},
   "outputs": [
    {
     "name": "stdout",
     "output_type": "stream",
     "text": [
      "Fri Jun 29 10:22:34 2018    prof.txt\n",
      "\n",
      "         4 function calls in 4.355 seconds\n",
      "\n",
      "   Ordered by: internal time\n",
      "\n",
      "   ncalls  tottime  percall  cumtime  percall filename:lineno(function)\n",
      "        1    4.355    4.355    4.355    4.355 <ipython-input-9-03e876c1c835>:1(foo)\n",
      "        1    0.000    0.000    4.355    4.355 {built-in method builtins.exec}\n",
      "        1    0.000    0.000    4.355    4.355 <string>:1(<module>)\n",
      "        1    0.000    0.000    0.000    0.000 {method 'disable' of '_lsprof.Profiler' objects}\n",
      "\n",
      "\n"
     ]
    }
   ],
   "source": [
    "def foo():\n",
    "    sum = 0\n",
    "    for i in range(9999999):\n",
    "        i = str(i)\n",
    "        i = int(i)\n",
    "        sum += i\n",
    "    return sum\n",
    "\n",
    "if __name__ == \"__main__\":\n",
    "    import cProfile\n",
    "    cProfile.run(\"foo()\", \"prof.txt\")\n",
    "    import pstats\n",
    "    p = pstats.Stats(\"prof.txt\")\n",
    "    p.sort_stats(\"time\").print_stats()"
   ]
  },
  {
   "cell_type": "markdown",
   "metadata": {},
   "source": [
    "以上为排序后的输出结果，可以进一步使用[SNAKEVIZ](https://jiffyclub.github.io/snakeviz/)来进行结果可视化，在命令行中输入"
   ]
  },
  {
   "cell_type": "markdown",
   "metadata": {},
   "source": [
    "```\n",
    "snakeviz prof.txt\n",
    "```"
   ]
  }
 ],
 "metadata": {
  "kernelspec": {
   "display_name": "Python 3",
   "language": "python",
   "name": "python3"
  },
  "language_info": {
   "codemirror_mode": {
    "name": "ipython",
    "version": 3
   },
   "file_extension": ".py",
   "mimetype": "text/x-python",
   "name": "python",
   "nbconvert_exporter": "python",
   "pygments_lexer": "ipython3",
   "version": "3.6.4"
  }
 },
 "nbformat": 4,
 "nbformat_minor": 2
}
